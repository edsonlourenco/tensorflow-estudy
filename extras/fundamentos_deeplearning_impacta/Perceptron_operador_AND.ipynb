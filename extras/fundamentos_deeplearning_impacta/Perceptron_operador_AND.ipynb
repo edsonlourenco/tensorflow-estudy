{
  "cells": [
    {
      "cell_type": "code",
      "execution_count": null,
      "metadata": {
        "id": "zN9dCZfLxPSt"
      },
      "outputs": [],
      "source": [
        "import numpy as np"
      ]
    },
    {
      "cell_type": "code",
      "execution_count": null,
      "metadata": {
        "id": "4-vqsZ2Ux8xK"
      },
      "outputs": [],
      "source": [
        "entradas = np.array([[0, 0], [0, 1], [1, 0], [1, 1]])"
      ]
    },
    {
      "cell_type": "code",
      "execution_count": null,
      "metadata": {
        "id": "zObQ1fEhygV7"
      },
      "outputs": [],
      "source": [
        "saidas  = np.array([[0], [1], [1], [0]])"
      ]
    },
    {
      "cell_type": "code",
      "execution_count": null,
      "metadata": {
        "id": "gYZxvYCUzep1"
      },
      "outputs": [],
      "source": [
        "pesos = np.array([0.5, 0.5])"
      ]
    },
    {
      "cell_type": "code",
      "execution_count": null,
      "metadata": {
        "id": "DBfEsPSiygSc"
      },
      "outputs": [],
      "source": [
        "# Criar a função soma\n",
        "def somaFunction(registro):\n",
        "    return registro.dot(pesos)"
      ]
    },
    {
      "cell_type": "code",
      "execution_count": null,
      "metadata": {
        "id": "ou8kxjkByY7N"
      },
      "outputs": [],
      "source": [
        "# Criaremos a função ativação\n",
        "def stepFunction(soma):\n",
        "    if soma >= 1:\n",
        "        return 1\n",
        "    return 0"
      ]
    },
    {
      "cell_type": "code",
      "execution_count": null,
      "metadata": {
        "id": "sPGyrua7ysub"
      },
      "outputs": [],
      "source": [
        "def terinarModelo():\n",
        "    erroTotal = 1\n",
        "    # fazer o calculos até o erro = 0\n",
        "    while(erroTotal != 0):\n",
        "        erroTotal = 0\n",
        "        # para cada entrada\n",
        "        for i in range(len(saidas)):\n",
        "            soma = somaFunction(entradas[i], pesos)\n",
        "            # calcular a saída\n",
        "            saidaCalculada = stepFunction(somaFunction(entradas[i], pesos))"
      ]
    }
  ],
  "metadata": {
    "colab": {
      "provenance": []
    },
    "kernelspec": {
      "display_name": "Python 3",
      "name": "python3"
    },
    "language_info": {
      "name": "python",
      "version": "3.11.9"
    }
  },
  "nbformat": 4,
  "nbformat_minor": 0
}
