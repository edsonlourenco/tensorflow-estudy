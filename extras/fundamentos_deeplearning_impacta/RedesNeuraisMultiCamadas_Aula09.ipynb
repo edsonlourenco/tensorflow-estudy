{
  "nbformat": 4,
  "nbformat_minor": 0,
  "metadata": {
    "colab": {
      "provenance": []
    },
    "kernelspec": {
      "name": "python3",
      "display_name": "Python 3"
    },
    "language_info": {
      "name": "python"
    }
  },
  "cells": [
    {
      "cell_type": "code",
      "execution_count": null,
      "metadata": {
        "id": "euQccJeYs7rk"
      },
      "outputs": [],
      "source": [
        "import numpy as np"
      ]
    },
    {
      "cell_type": "code",
      "source": [
        "def funccaoSigmoide(x):\n",
        "    return 1/(1+np.exp(-x))"
      ],
      "metadata": {
        "id": "HWsOqJi4s_e-"
      },
      "execution_count": null,
      "outputs": []
    },
    {
      "cell_type": "code",
      "source": [
        "entradas = np.array([[0,0], [0,1], [1,0], [1,1]])"
      ],
      "metadata": {
        "id": "YLUEiVeytOmt"
      },
      "execution_count": null,
      "outputs": []
    },
    {
      "cell_type": "code",
      "source": [
        "saidas = np.array([[0], [1], [1], [0]])"
      ],
      "metadata": {
        "id": "BTstYGfbtfdX"
      },
      "execution_count": null,
      "outputs": []
    },
    {
      "cell_type": "code",
      "source": [],
      "metadata": {
        "id": "I-ZmsSnJunCc"
      },
      "execution_count": null,
      "outputs": []
    },
    {
      "cell_type": "code",
      "source": [
        "pesos0 = np.random.rand()"
      ],
      "metadata": {
        "id": "a89vjEe6tmgj"
      },
      "execution_count": null,
      "outputs": []
    },
    {
      "cell_type": "code",
      "source": [
        "pesos1 = np.array ([[-0.017], [-0.893], [0.148]])"
      ],
      "metadata": {
        "id": "9KFTOJ4AuFN3"
      },
      "execution_count": null,
      "outputs": []
    },
    {
      "cell_type": "code",
      "source": [
        "camadaEntrada = entradas\n",
        "somaSinapse0 = np.dot(camadaEntrada, pesos0)"
      ],
      "metadata": {
        "id": "xcSKEgRQuGKU"
      },
      "execution_count": null,
      "outputs": []
    },
    {
      "cell_type": "code",
      "source": [
        "print(sigmoid(somaSinapse0))"
      ],
      "metadata": {
        "id": "t2imRDmpuXtg"
      },
      "execution_count": null,
      "outputs": []
    },
    {
      "cell_type": "code",
      "source": [],
      "metadata": {
        "id": "wQvYVju4ulS2"
      },
      "execution_count": null,
      "outputs": []
    }
  ]
}