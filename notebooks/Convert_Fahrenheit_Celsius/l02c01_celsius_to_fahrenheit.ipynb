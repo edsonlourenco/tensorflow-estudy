{
 "cells": [
  {
   "cell_type": "markdown",
   "metadata": {},
   "source": [
    "##### Copyright 2018 The TensorFlow Authors."
   ]
  },
  {
   "cell_type": "code",
   "execution_count": 1,
   "metadata": {},
   "outputs": [],
   "source": [
    "#@title Licensed under the Apache License, Version 2.0 (the \"License\");\n",
    "# you may not use this file except in compliance with the License.\n",
    "# You may obtain a copy of the License at\n",
    "#\n",
    "# https://www.apache.org/licenses/LICENSE-2.0\n",
    "#\n",
    "# Unless required by applicable law or agreed to in writing, software\n",
    "# distributed under the License is distributed on an \"AS IS\" BASIS,\n",
    "# WITHOUT WARRANTIES OR CONDITIONS OF ANY KIND, either express or implied.\n",
    "# See the License for the specific language governing permissions and\n",
    "# limitations under the License."
   ]
  },
  {
   "cell_type": "markdown",
   "metadata": {},
   "source": [
    "# O básico: treinando seu primeiro modelo"
   ]
  },
  {
   "cell_type": "markdown",
   "metadata": {},
   "source": [
    "<table class=\"tfo-notebook-buttons\" align=\"left\">\n",
    " <td>\n",
    " <a target=\"_blank\" href=\"https://colab.research.google.com/github/tensorflow/examples/blob/master/courses/udacity_intro_to_tensorflow_for_deep_learning/l02c01_celsius_to_fahrenheit.ipynb\"><img src=\"https:// www.tensorflow.org/images/colab_logo_32px.png\" />Executar no Google Colab</a>\n",
    " </td>\n",
    " <td>\n",
    " <a target=\"_blank\" href=\"https://github.com/tensorflow/examples/blob/master/courses/udacity_intro_to_tensorflow_for_deep_learning/l02c01_celsius_to_fahrenheit.ipynb\"><img src=\"https://www.tensorflow.org/ images/GitHub-Mark-32px.png\" />Ver fonte no GitHub</a>\n",
    " </td>\n",
    "</tabela>"
   ]
  },
  {
   "cell_type": "markdown",
   "metadata": {},
   "source": [
    "Bem-vindo a este lab onde você treinará seu primeiro modelo de Machine Learning!\n",
    "\n",
    "Tentaremos manter as coisas simples aqui e introduzir apenas conceitos básicos. Posteriormente, o lab cobrirá problemas mais avançados.\n",
    "\n",
    "O problema que resolveremos é converter de Celsius para Fahrenheit, onde a fórmula aproximada é:\n",
    "\n",
    "$$ f = c \\times 1.8 + 32 $$\n",
    "\n",
    "\n",
    "É claro que seria bastante simples criar uma função Python convencional que executasse diretamente esse cálculo, mas isso não seria aprendizado de máquina.\n",
    "\n",
    "\n",
    "Em vez disso, daremos ao TensorFlow alguns valores Celsius de amostra (0, 8, 15, 22, 38) e seus valores Fahrenheit correspondentes (32, 46, 59, 72, 100).\n",
    "Em seguida, treinaremos um modelo que irá descubra a fórmula acima por meio do processo de treinamento."
   ]
  },
  {
   "cell_type": "markdown",
   "metadata": {},
   "source": [
    "## Importar dependências\n",
    "\n",
    "Primeiro, importe o TensorFlow. Aqui, estamos chamando-o de `tf` para facilitar o uso. Também dizemos para exibir apenas erros.\n",
    "\n",
    "Em seguida, importe [NumPy](http://www.numpy.org/) como `np`. Numpy nos ajuda a representar nossos dados como listas de alto desempenho."
   ]
  },
  {
   "cell_type": "code",
   "execution_count": 2,
   "metadata": {},
   "outputs": [],
   "source": [
    "import tensorflow as tf"
   ]
  },
  {
   "cell_type": "code",
   "execution_count": 3,
   "metadata": {},
   "outputs": [
    {
     "data": {
      "text/plain": [
       "'2.15.0'"
      ]
     },
     "execution_count": 3,
     "metadata": {},
     "output_type": "execute_result"
    }
   ],
   "source": [
    "tf.__version__"
   ]
  },
  {
   "cell_type": "code",
   "execution_count": 4,
   "metadata": {},
   "outputs": [],
   "source": [
    "import numpy as np\n",
    "import logging\n",
    "logger = tf.get_logger()\n",
    "logger.setLevel(logging.ERROR)"
   ]
  },
  {
   "cell_type": "markdown",
   "metadata": {},
   "source": [
    "## Configurar dados de treinamento\n",
    "\n",
    "Como vimos antes, o aprendizado de máquina supervisionado trata de descobrir um algoritmo com base em um conjunto de entradas e saídas. Como a tarefa neste Codelab é criar um modelo que possa fornecer a temperatura em Fahrenheit quando dados os graus em Celsius, criamos duas listas `celsius_q` e `fahrenheit_a` que podemos usar para treinar nosso modelo."
   ]
  },
  {
   "cell_type": "code",
   "execution_count": 5,
   "metadata": {},
   "outputs": [
    {
     "name": "stdout",
     "output_type": "stream",
     "text": [
      "40.0 graus Celsius = -40.0 graus Fahrenheit\n",
      "-10.0 graus Celsius = 14.0 graus Fahrenheit\n",
      "0.0 graus Celsius = 32.0 graus Fahrenheit\n",
      "8.0 graus Celsius = 46.0 graus Fahrenheit\n",
      "15.0 graus Celsius = 59.0 graus Fahrenheit\n",
      "22.0 graus Celsius = 72.0 graus Fahrenheit\n",
      "38.0 graus Celsius = 100.0 graus Fahrenheit\n"
     ]
    }
   ],
   "source": [
    "celsius_q    = np.array([40, -10,  0,  8, 15, 22,  38],   dtype=float)\n",
    "fahrenheit_a = np.array([-40,  14, 32, 46, 59, 72, 100],  dtype=float)\n",
    "\n",
    "for i, c in enumerate(celsius_q):\n",
    "     print(\"{} graus Celsius = {} graus Fahrenheit\".format(c, fahrenheit_a[i]))"
   ]
  },
  {
   "cell_type": "markdown",
   "metadata": {},
   "source": [
    "### Algumas terminologias de aprendizado de máquina\n",
    "\n",
    " - **Feature** — A(s) entrada(s) para nosso modelo. Neste caso, um único valor — os graus em Celsius.\n",
    "\n",
    " - **Labels** — A saída que nosso modelo prevê. Neste caso, um único valor — os graus em Fahrenheit.\n",
    "\n",
    " - **Example** — Um par de entradas/saídas usadas durante o treinamento. No nosso caso, um par de valores de `celsius_q` e `fahrenheit_a` em um índice específico, como `(22,72)`."
   ]
  },
  {
   "cell_type": "markdown",
   "metadata": {},
   "source": [
    "## Crie o modelo\n",
    "\n",
    "Em seguida, crie o modelo. Usaremos o modelo mais simples possível, uma rede Densa. Como o problema é simples, esta rede exigirá apenas uma única camada, com um único neurônio.\n",
    "\n",
    "### Construa uma camada\n",
    "\n",
    "Chamaremos a camada `l0` e a criaremos instanciando `tf.keras.layers.Dense` com a seguinte configuração:\n",
    "\n",
    "* `input_shape=[1]` — Especifica que a entrada para esta camada é um valor único. Ou seja, a forma é uma matriz unidimensional com um membro. Como esta é a primeira (e única) camada, essa forma de entrada é a forma de entrada de todo o modelo. O valor único é um número de ponto flutuante, representando graus Celsius.\n",
    "\n",
    "* `units=1` — Especifica o número de neurônios na camada. O número de neurônios define quantas variáveis ​​internas a camada tem que tentar aprender como resolver o problema (falaremos mais tarde). Como esta é a camada final, também é o tamanho da saída do modelo — um único valor flutuante representando graus Fahrenheit. (Em uma rede multicamadas, o tamanho e a forma da camada precisariam corresponder ao `input_shape` da próxima camada.)"
   ]
  },
  {
   "cell_type": "code",
   "execution_count": 6,
   "metadata": {},
   "outputs": [],
   "source": [
    "l0 = tf.keras.layers.Dense(units=1, input_shape=[1])"
   ]
  },
  {
   "cell_type": "markdown",
   "metadata": {},
   "source": [
    "### Monte camadas no modelo\n",
    "\n",
    "Uma vez definidas as camadas, elas precisam ser montadas em um modelo. A definição do modelo Sequencial usa uma lista de camadas como argumento, especificando a ordem de cálculo da entrada até a saída.\n",
    "\n",
    "Este modelo possui apenas uma única camada, l0."
   ]
  },
  {
   "cell_type": "code",
   "execution_count": 7,
   "metadata": {},
   "outputs": [],
   "source": [
    "model = tf.keras.Sequential([l0])"
   ]
  },
  {
   "cell_type": "markdown",
   "metadata": {},
   "source": [
    "**Observação**\n",
    "\n",
    "Freqüentemente, você verá as camadas definidas dentro da definição do modelo, em vez de antes:\n",
    "\n",
    "```python\n",
    "modelo = tf.keras.Sequential([\n",
    " tf.keras.layers.Dense(unidades=1, input_shape=[1])\n",
    "])\n",
    "```"
   ]
  },
  {
   "cell_type": "markdown",
   "metadata": {},
   "source": [
    "## Compile o modelo, com funções de perda e otimizador\n",
    "\n",
    "Antes do treinamento, o modelo deve ser compilado. Quando compilado para treinamento, o modelo recebe:\n",
    "\n",
    "- **Loss function** — Uma forma de medir o quão longe as previsões estão do resultado desejado. (A diferença medida é chamada de \"perda\".)\n",
    "\n",
    "- **Optimizer function** — Uma forma de ajustar valores internos para reduzir a perda."
   ]
  },
  {
   "cell_type": "code",
   "execution_count": 8,
   "metadata": {},
   "outputs": [
    {
     "name": "stderr",
     "output_type": "stream",
     "text": [
      "WARNING:absl:At this time, the v2.11+ optimizer `tf.keras.optimizers.Adam` runs slowly on M1/M2 Macs, please use the legacy Keras optimizer instead, located at `tf.keras.optimizers.legacy.Adam`.\n"
     ]
    }
   ],
   "source": [
    "model.compile(loss='mean_squared_error',\n",
    "              optimizer=tf.keras.optimizers.Adam(0.1))"
   ]
  },
  {
   "cell_type": "markdown",
   "metadata": {},
   "source": [
    "Eles são usados ​​durante o treinamento (`model.fit()`, abaixo) para primeiro calcular a perda em cada ponto e depois melhorá-la. Na verdade, o ato de calcular a perda atual de um modelo e depois melhorá-lo é exatamente o que é o treinamento.\n",
    "\n",
    "Durante o treinamento, a função `optimizer` é utilizada para calcular ajustes nas variáveis ​​internas do modelo. O objetivo é ajustar as variáveis ​​internas até que o modelo (que na verdade é uma função matemática) espelhe a equação real para converter Celsius em Fahrenheit.\n",
    "\n",
    "O TensorFlow usa análise numérica para realizar esse ajuste, e toda essa complexidade fica oculta para você, por isso não entraremos em detalhes aqui. O que é útil saber sobre esses parâmetros é:\n",
    "\n",
    "A função de perda ([mean squared error](https://en.wikipedia.org/wiki/Mean_squared_error)) e o otimizador ([Adam](https://machinelearningmastery.com/adam-optimization-algorithm-for-deep -learning/)) usados ​​aqui são padrão para modelos simples como este, mas muitos outros estão disponíveis. Não é importante saber como essas funções específicas funcionam neste momento.\n",
    "\n",
    "Uma parte do Otimizador que você pode precisar considerar ao construir seus próprios modelos é a taxa de aprendizado (`0,1` no código acima). Este é o tamanho do passo dado ao ajustar os valores no modelo. Se o valor for muito pequeno, serão necessárias muitas iterações para treinar o modelo. Muito grande e a precisão diminui. Encontrar um bom valor geralmente envolve algumas tentativas e erros, mas o intervalo geralmente está entre 0,001 (padrão) e 0,1"
   ]
  },
  {
   "cell_type": "markdown",
   "metadata": {},
   "source": [
    "## Treine o modelo\n",
    "\n",
    "Treine o modelo chamando o método `fit`.\n",
    "\n",
    "Durante o treinamento, o modelo recebe valores Celsius, realiza um cálculo usando as variáveis ​​internas atuais (chamadas de \"pesos\") e gera valores que devem ser equivalentes em Fahrenheit. Como os pesos são inicialmente definidos aleatoriamente, a saída não estará próxima do valor correto. A diferença entre a saída real e a saída desejada é calculada usando a função de perda, e a função otimizadora direciona como os pesos devem ser ajustados.\n",
    "\n",
    "Este ciclo de calcular, comparar e ajustar é controlado pelo método `fit`. O primeiro argumento são as entradas, o segundo argumento são as saídas desejadas. O argumento `epochs` especifica quantas vezes este ciclo deve ser executado, e o argumento `verbose` controla quanta saída o método produz."
   ]
  },
  {
   "cell_type": "code",
   "execution_count": 9,
   "metadata": {},
   "outputs": [
    {
     "name": "stdout",
     "output_type": "stream",
     "text": [
      "Treinamento do modelo finalizado\n"
     ]
    }
   ],
   "source": [
    "history = model.fit(celsius_q, fahrenheit_a, epochs=500, verbose=False)\n",
    "print(\"Treinamento do modelo finalizado\")"
   ]
  },
  {
   "cell_type": "markdown",
   "metadata": {},
   "source": [
    "Em vídeos posteriores, entraremos em mais detalhes sobre o que realmente acontece aqui e como uma camada Densa realmente funciona internamente."
   ]
  },
  {
   "cell_type": "markdown",
   "metadata": {},
   "source": [
    "## Exibir estatísticas de treinamento\n",
    "\n",
    "O método `fit` retorna um objeto histórico. Podemos usar este objeto para representar graficamente como a perda de nosso modelo diminui após cada época de treinamento. Uma perda alta significa que os graus Fahrenheit previstos pelo modelo estão longe do valor correspondente em `fahrenheit_a`.\n",
    "\n",
    "Usaremos [Matplotlib](https://matplotlib.org/) para visualizar isso (você poderia usar outra ferramenta). Como você pode ver, nosso modelo melhora muito rapidamente no início e depois tem uma melhoria constante e lenta até ficar quase \"perfeito\" no final."
   ]
  },
  {
   "cell_type": "markdown",
   "metadata": {},
   "source": []
  },
  {
   "cell_type": "code",
   "execution_count": 10,
   "metadata": {},
   "outputs": [
    {
     "data": {
      "text/plain": [
       "[<matplotlib.lines.Line2D at 0x30ad276d0>]"
      ]
     },
     "execution_count": 10,
     "metadata": {},
     "output_type": "execute_result"
    },
    {
     "data": {
      "image/png": "[encoded data removed]",
      "text/plain": [
       "<Figure size 640x480 with 1 Axes>"
      ]
     },
     "metadata": {},
     "output_type": "display_data"
    }
   ],
   "source": [
    "import matplotlib.pyplot as plt\n",
    "plt.xlabel(\"Número de Épocas\")\n",
    "plt.ylabel(\"Perda de Magnetude\")\n",
    "plt.plot(history.history['loss'])"
   ]
  },
  {
   "cell_type": "markdown",
   "metadata": {},
   "source": [
    "## Use o modelo para prever valores\n",
    "\n",
    "Agora você tem um modelo que foi treinado para aprender a relação entre `celsius_q` e `fahrenheit_a`. Você pode usar o método de previsão para calcular os graus Fahrenheit para graus Celsius anteriormente desconhecidos.\n",
    "\n",
    "Então, por exemplo, se o valor Celsius for 100, qual você acha que será o resultado em Fahrenheit? Adivinhe antes de executar este código."
   ]
  },
  {
   "cell_type": "code",
   "execution_count": 11,
   "metadata": {},
   "outputs": [
    {
     "name": "stdout",
     "output_type": "stream",
     "text": [
      "1/1 [==============================] - 0s 31ms/step\n",
      "[[63.591824]]\n"
     ]
    }
   ],
   "source": [
    "print(model.predict([100.0]))"
   ]
  },
  {
   "cell_type": "markdown",
   "metadata": {},
   "source": [
    "A resposta correta é $100 \\times 1,8 + 32 = 212$, então nosso modelo está indo muito bem.\n",
    "\n",
    "### Recapitulando até aqui\n",
    "\n",
    "\n",
    "* Criamos um modelo com uma camada Densa\n",
    "* Treinamos com 3.500 exemplos (7 pares, mais de 500 épocas).\n",
    "\n",
    "Nosso modelo ajustou as variáveis ​​(pesos) na camada Densa até ser capaz de retornar o valor Fahrenheit correto para qualquer valor Celsius. (Lembre-se, 100 Celsius não fazia parte dos nossos dados de treinamento.)"
   ]
  },
  {
   "cell_type": "code",
   "execution_count": 12,
   "metadata": {},
   "outputs": [
    {
     "name": "stdout",
     "output_type": "stream",
     "text": [
      "Estas são as variáveis: [array([[0.30988064]], dtype=float32), array([32.60376], dtype=float32)]\n"
     ]
    }
   ],
   "source": [
    "print(\"Estas são as variáveis: {}\".format(l0.get_weights()))"
   ]
  },
  {
   "cell_type": "markdown",
   "metadata": {},
   "source": [
    "A primeira variável está próxima de ~1,8 e a segunda de ~32. Esses valores (1,8 e 32) são as variáveis ​​reais na fórmula de conversão real.\n",
    "\n",
    "Isso está muito próximo dos valores da fórmula de conversão. Explicaremos isso em um próximo vídeo, onde mostraremos como funciona uma camada Densa, mas para um único neurônio com uma única entrada e uma única saída, a matemática interna parece a mesma que [a equação de uma linha](https:/ /en.wikipedia.org/wiki/Linear_equation#Slope%E2%80%93intercept_form), $y = mx + b$, que tem a mesma forma da equação de conversão, $f = 1,8c + 32$.\n",
    "\n",
    "Como a forma é a mesma, as variáveis ​​deveriam convergir para os valores padrão de 1,8 e 32, e foi exatamente o que aconteceu.\n",
    "\n",
    "Com neurônios adicionais, entradas adicionais e saídas adicionais, a fórmula se torna muito mais complexa, mas a ideia é a mesma.\n",
    "\n",
    "### Uma pequena experiência\n",
    "\n",
    "Só por diversão, e se criássemos camadas mais densas com unidades diferentes, que portanto também tivessem mais variáveis?"
   ]
  },
  {
   "cell_type": "code",
   "execution_count": 13,
   "metadata": {},
   "outputs": [
    {
     "name": "stderr",
     "output_type": "stream",
     "text": [
      "WARNING:absl:At this time, the v2.11+ optimizer `tf.keras.optimizers.Adam` runs slowly on M1/M2 Macs, please use the legacy Keras optimizer instead, located at `tf.keras.optimizers.legacy.Adam`.\n"
     ]
    },
    {
     "name": "stdout",
     "output_type": "stream",
     "text": [
      "Treinamento do modelo concluído\n",
      "1/1 [==============================] - 0s 26ms/step\n",
      "[[53.593815]]\n",
      "1/1 [==============================] - 0s 47ms/step\n",
      "O modelo prevê que 100 graus Celsius é: [[53.593815]] graus Fahrenheit\n",
      "Estas são as variáveis ​​l0: [array([[-0.32996625,  0.24325337, -0.24042048, -0.10088965]],\n",
      "      dtype=float32), array([ 2.0658886 ,  3.3713686 ,  0.06658643, -3.2798233 ], dtype=float32)]\n",
      "Estas são as variáveis ​​l1: [array([[-1.0445329e+00,  4.1966772e-01,  9.7267948e-02,  4.2285010e-01],\n",
      "       [-7.1750391e-01,  2.8093854e-01, -1.0544617e+00,  3.5702994e-01],\n",
      "       [-6.2294386e-02,  5.9857499e-02,  3.0487066e-04,  6.0696661e-01],\n",
      "       [ 2.5867257e-02, -1.1636236e+00,  1.2745798e+00,  4.2493498e-01]],\n",
      "      dtype=float32), array([-3.1185336,  2.7069206, -3.214838 , -0.710677 ], dtype=float32)]\n",
      "Estas são as variáveis ​​l2: [array([[-1.734837  ],\n",
      "       [ 1.1502129 ],\n",
      "       [-1.0923264 ],\n",
      "       [ 0.08283316]], dtype=float32), array([3.0522575], dtype=float32)]\n"
     ]
    }
   ],
   "source": [
    "l0 = tf.keras.layers.Dense(units=4, input_shape=[1])\n",
    "l1 = tf.keras.layers.Dense(units=4)\n",
    "l2 = tf.keras.layers.Dense(units=1)\n",
    "model = tf.keras.Sequential([l0, l1, l2])\n",
    "model.compile(loss=\"mean_squared_error\", optimizer=tf.keras.optimizers.Adam(0.1))\n",
    "model.fit(celsius_q, fahrenheit_a, epochs=500, verbose=False)\n",
    "print(\"Treinamento do modelo concluído\")\n",
    "print(model.predict([100.0]))\n",
    "print(\"O modelo prevê que 100 graus Celsius é: {} graus Fahrenheit\".format(model.predict([100.0])))\n",
    "print(\"Estas são as variáveis ​​l0: {}\".format(l0.get_weights()))\n",
    "print(\"Estas são as variáveis ​​l1: {}\".format(l1.get_weights()))\n",
    "print(\"Estas são as variáveis ​​l2: {}\".format(l2.get_weights()))"
   ]
  },
  {
   "cell_type": "markdown",
   "metadata": {},
   "source": [
    "Como você pode ver, este modelo também é capaz de prever muito bem o valor Fahrenheit correspondente. Mas quando você olha para as variáveis ​​(pesos) nas camadas `l0` e `l1`, elas não chegam nem perto de ~1,8 e ~32. A complexidade adicional esconde a forma “simples” da equação de conversão.\n",
    "\n",
    "Fique ligado no próximo vídeo sobre como funcionam as camadas densas para obter a explicação."
   ]
  }
 ],
 "metadata": {
  "kernelspec": {
   "display_name": "mleng",
   "language": "python",
   "name": "python3"
  },
  "language_info": {
   "codemirror_mode": {
    "name": "ipython",
    "version": 3
   },
   "file_extension": ".py",
   "mimetype": "text/x-python",
   "name": "python",
   "nbconvert_exporter": "python",
   "pygments_lexer": "ipython3",
   "version": "3.11.9"
  }
 },
 "nbformat": 4,
 "nbformat_minor": 2
}
